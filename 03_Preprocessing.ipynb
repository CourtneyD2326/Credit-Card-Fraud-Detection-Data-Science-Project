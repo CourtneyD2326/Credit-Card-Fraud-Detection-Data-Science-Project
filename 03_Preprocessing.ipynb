{
 "cells": [
  {
   "cell_type": "markdown",
   "id": "48098aed",
   "metadata": {},
   "source": [
    "# Pre-processing and Training Data Development of Credit Card Date"
   ]
  },
  {
   "cell_type": "markdown",
   "id": "03517419",
   "metadata": {},
   "source": [
    "# Load packages"
   ]
  },
  {
   "cell_type": "code",
   "execution_count": 1,
   "id": "600df11e",
   "metadata": {},
   "outputs": [
    {
     "data": {
      "text/html": [
       "        <script type=\"text/javascript\">\n",
       "        window.PlotlyConfig = {MathJaxConfig: 'local'};\n",
       "        if (window.MathJax && window.MathJax.Hub && window.MathJax.Hub.Config) {window.MathJax.Hub.Config({SVG: {font: \"STIX-Web\"}});}\n",
       "        if (typeof require !== 'undefined') {\n",
       "        require.undef(\"plotly\");\n",
       "        requirejs.config({\n",
       "            paths: {\n",
       "                'plotly': ['https://cdn.plot.ly/plotly-2.16.1.min']\n",
       "            }\n",
       "        });\n",
       "        require(['plotly'], function(Plotly) {\n",
       "            window._Plotly = Plotly;\n",
       "        });\n",
       "        }\n",
       "        </script>\n",
       "        "
      ]
     },
     "metadata": {},
     "output_type": "display_data"
    }
   ],
   "source": [
    "import pandas as pd \n",
    "import numpy as np\n",
    "import matplotlib\n",
    "import matplotlib.pyplot as plt\n",
    "import seaborn as sns\n",
    "%matplotlib inline \n",
    "import plotly.graph_objs as go\n",
    "import plotly.figure_factory as ff\n",
    "from plotly import tools\n",
    "from plotly.offline import download_plotlyjs, init_notebook_mode, plot, iplot\n",
    "init_notebook_mode(connected=True)\n",
    "from ipywidgets import widgets\n",
    "from scipy.stats import zscore\n",
    "from sklearn import preprocessing\n",
    "from sklearn.preprocessing import StandardScaler\n",
    "#TRAIN/VALIDATION/TEST SPLIT\n",
    "#VALIDATION\n",
    "VALID_SIZE = 0.20 # simple validation using train_test_split\n",
    "TEST_SIZE = 0.20 # test size using_train_test_split\n",
    "\n",
    "RANDOM_STATE = 2018"
   ]
  },
  {
   "cell_type": "code",
   "execution_count": 2,
   "id": "0e24226d",
   "metadata": {},
   "outputs": [],
   "source": [
    "import warnings\n",
    "warnings.simplefilter(action='ignore', category=FutureWarning)\n",
    "warnings.simplefilter(action='ignore', category=UserWarning)"
   ]
  },
  {
   "cell_type": "markdown",
   "id": "0ead9354",
   "metadata": {},
   "source": [
    "# Read Data"
   ]
  },
  {
   "cell_type": "code",
   "execution_count": 3,
   "id": "53eb5920",
   "metadata": {},
   "outputs": [
    {
     "data": {
      "text/plain": [
       "Index(['Time', 'V1', 'V2', 'V3', 'V4', 'V5', 'V6', 'V7', 'V8', 'V9', 'V10',\n",
       "       'V11', 'V12', 'V13', 'V14', 'V15', 'V16', 'V17', 'V18', 'V19', 'V20',\n",
       "       'V21', 'V22', 'V23', 'V24', 'V25', 'V26', 'V27', 'V28', 'Amount',\n",
       "       'Class'],\n",
       "      dtype='object')"
      ]
     },
     "execution_count": 3,
     "metadata": {},
     "output_type": "execute_result"
    }
   ],
   "source": [
    "data_df = pd.read_csv(\"/Users/courtneydavid/Documents/Data Science Springboard Career Track Course/Capstone 2/creditcard.csv\")\n",
    "data_df.columns"
   ]
  },
  {
   "cell_type": "markdown",
   "id": "d67782ce",
   "metadata": {},
   "source": [
    "# Create dummy features for categorical variables. "
   ]
  },
  {
   "cell_type": "markdown",
   "id": "6066373d",
   "metadata": {},
   "source": [
    "In my dataset there are no categorical features. But for the assignment I have displayed possible code if I did have categorical variables in my dataset."
   ]
  },
  {
   "cell_type": "markdown",
   "id": "067ea97e",
   "metadata": {},
   "source": [
    "dfo=data_df['Class'] \n",
    "dummy_state_values= pd.get_dummies(dfo)\n",
    "dummy_state_values\n",
    "data_df=pd.concat([data_df,dummy_state_values],axis=1)\n",
    "del(data_df['Class'])\n",
    "data_df.head()"
   ]
  },
  {
   "cell_type": "markdown",
   "id": "fc059aa9",
   "metadata": {},
   "source": [
    "# Standardize the magnitude of numeric features"
   ]
  },
  {
   "cell_type": "code",
   "execution_count": 4,
   "id": "2d896f2c",
   "metadata": {},
   "outputs": [],
   "source": [
    "target = 'Class'\n",
    "predictors = ['Time', 'V1', 'V2', 'V3', 'V4', 'V5', 'V6', 'V7', 'V8', 'V9', 'V10',\\\n",
    "       'V11', 'V12', 'V13', 'V14', 'V15', 'V16', 'V17', 'V18', 'V19',\\\n",
    "       'V20', 'V21', 'V22', 'V23', 'V24', 'V25', 'V26', 'V27', 'V28',\\\n",
    "       'Amount']"
   ]
  },
  {
   "cell_type": "code",
   "execution_count": 7,
   "id": "606e518d",
   "metadata": {},
   "outputs": [],
   "source": [
    "# Making a Scaler object\n",
    "scaler = preprocessing.StandardScaler()\n",
    "# Fitting data to the scaler object\n",
    "scaled_df = scaler.fit_transform(data_df)\n",
    "scaled_df = pd.DataFrame(scaled_df) "
   ]
  },
  {
   "cell_type": "code",
   "execution_count": 10,
   "id": "9c7b0d84",
   "metadata": {},
   "outputs": [
    {
     "data": {
      "text/plain": [
       "Index(['Time', 'V1', 'V2', 'V3', 'V4', 'V5', 'V6', 'V7', 'V8', 'V9', 'V10',\n",
       "       'V11', 'V12', 'V13', 'V14', 'V15', 'V16', 'V17', 'V18', 'V19', 'V20',\n",
       "       'V21', 'V22', 'V23', 'V24', 'V25', 'V26', 'V27', 'V28', 'Amount',\n",
       "       'Class'],\n",
       "      dtype='object')"
      ]
     },
     "execution_count": 10,
     "metadata": {},
     "output_type": "execute_result"
    }
   ],
   "source": [
    "data_df.columns"
   ]
  },
  {
   "cell_type": "markdown",
   "id": "4f2d1464",
   "metadata": {},
   "source": [
    "# Split into training and testing datasets"
   ]
  },
  {
   "cell_type": "markdown",
   "id": "87bdcc83",
   "metadata": {},
   "source": [
    "The data will be split into training, validation and testing sets."
   ]
  },
  {
   "cell_type": "code",
   "execution_count": 11,
   "id": "532983c8",
   "metadata": {},
   "outputs": [],
   "source": [
    "from sklearn.model_selection import train_test_split\n",
    "\n",
    "train_df, test_df = train_test_split(data_df, test_size=TEST_SIZE, random_state=RANDOM_STATE, shuffle=True )\n",
    "train_df, valid_df = train_test_split(train_df, test_size=VALID_SIZE, random_state=RANDOM_STATE, shuffle=True )\n"
   ]
  }
 ],
 "metadata": {
  "kernelspec": {
   "display_name": "Python 3 (ipykernel)",
   "language": "python",
   "name": "python3"
  },
  "language_info": {
   "codemirror_mode": {
    "name": "ipython",
    "version": 3
   },
   "file_extension": ".py",
   "mimetype": "text/x-python",
   "name": "python",
   "nbconvert_exporter": "python",
   "pygments_lexer": "ipython3",
   "version": "3.9.12"
  }
 },
 "nbformat": 4,
 "nbformat_minor": 5
}
